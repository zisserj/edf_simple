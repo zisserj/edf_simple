{
 "cells": [
  {
   "cell_type": "code",
   "execution_count": 41,
   "metadata": {
    "id": "GHc_X3igpEbu"
   },
   "outputs": [],
   "source": [
    "import bppy as bp\n",
    "from bppy.model.sync_statement import *\n",
    "from bppy.model.b_thread import *\n",
    "import numpy as np\n",
    "np.set_printoptions(legacy='1.25')"
   ]
  },
  {
   "cell_type": "code",
   "execution_count": 2,
   "metadata": {
    "colab": {
     "base_uri": "https://localhost:8080/"
    },
    "id": "G9KFhBympIlJ",
    "outputId": "d1272b6b-02ff-4b86-cf5d-5313d112dab9"
   },
   "outputs": [
    {
     "data": {
      "text/plain": [
       "['BUSBAR',\n",
       " 'GRID',\n",
       " 'CB_UP_1',\n",
       " 'CB_UP_2',\n",
       " 'transfo1',\n",
       " 'transfo2',\n",
       " 'CB_DW_1',\n",
       " 'CB_DW_2',\n",
       " 'diesel_gen',\n",
       " 'CB_dies']"
      ]
     },
     "execution_count": 2,
     "metadata": {},
     "output_type": "execute_result"
    }
   ],
   "source": [
    "comps = 'BUSBAR GRID CB_UP_1 CB_UP_2 transfo1 transfo2 CB_DW_1 CB_DW_2 diesel_gen CB_dies'\n",
    "comps = comps.split(' ')\n",
    "comps"
   ]
  },
  {
   "cell_type": "code",
   "execution_count": 4,
   "metadata": {
    "id": "C5mtStIWqOgn"
   },
   "outputs": [],
   "source": [
    "in_oper_f_r = 10e-4 # per hour (exp)\n",
    "on_demand_f_r = 10e-3 # per attempt\n",
    "repair_rate = 10-1 # per hour (exp)"
   ]
  },
  {
   "cell_type": "code",
   "execution_count": 17,
   "metadata": {
    "id": "Qv1o-1i3sfFw"
   },
   "outputs": [],
   "source": [
    "ON = True\n",
    "OFF = False"
   ]
  },
  {
   "cell_type": "code",
   "execution_count": 3,
   "metadata": {},
   "outputs": [],
   "source": [
    "from scipy.stats import expon"
   ]
  },
  {
   "cell_type": "code",
   "execution_count": 9,
   "metadata": {},
   "outputs": [
    {
     "data": {
      "text/plain": [
       "array([ 795.87450816, 1255.93076297,  923.2231458 ,  787.20115232,\n",
       "        551.0484911 , 1038.15929494,  575.51919917, 2223.52441303,\n",
       "       3314.91218205,  483.6021009 ])"
      ]
     },
     "execution_count": 9,
     "metadata": {},
     "output_type": "execute_result"
    }
   ],
   "source": [
    "a = expon.rvs(scale=1/in_oper_f_r, size=10, random_state=0)\n",
    "a\n",
    "# time to err from start"
   ]
  },
  {
   "cell_type": "code",
   "execution_count": 14,
   "metadata": {},
   "outputs": [
    {
     "data": {
      "text/plain": [
       "array([ 795.87450816, 1255.93076297,  923.2231458 ,  787.20115232,\n",
       "        551.0484911 , 1038.15929494,  575.51919917, 2223.52441303,\n",
       "       3314.91218205,  483.6021009 ])"
      ]
     },
     "execution_count": 14,
     "metadata": {},
     "output_type": "execute_result"
    }
   ],
   "source": [
    "b = expon.rvs(loc=0, scale=1/in_oper_f_r, size=10, random_state=0)\n",
    "b"
   ]
  },
  {
   "cell_type": "code",
   "execution_count": 22,
   "metadata": {},
   "outputs": [
    {
     "data": {
      "text/plain": [
       "np.int64(9)"
      ]
     },
     "execution_count": 22,
     "metadata": {},
     "output_type": "execute_result"
    }
   ],
   "source": [
    "b.argmin()"
   ]
  },
  {
   "cell_type": "code",
   "execution_count": 19,
   "metadata": {},
   "outputs": [
    {
     "data": {
      "text/plain": [
       "1"
      ]
     },
     "execution_count": 19,
     "metadata": {},
     "output_type": "execute_result"
    }
   ],
   "source": [
    "sum({'a':ON}.values())"
   ]
  },
  {
   "cell_type": "code",
   "execution_count": 39,
   "metadata": {},
   "outputs": [
    {
     "data": {
      "text/plain": [
       "3.0"
      ]
     },
     "execution_count": 39,
     "metadata": {},
     "output_type": "execute_result"
    }
   ],
   "source": [
    "3.0"
   ]
  },
  {
   "cell_type": "code",
   "execution_count": 43,
   "metadata": {},
   "outputs": [
    {
     "ename": "ModuleNotFoundError",
     "evalue": "No module named 'matplotlib'",
     "output_type": "error",
     "traceback": [
      "\u001b[0;31m---------------------------------------------------------------------------\u001b[0m",
      "\u001b[0;31mModuleNotFoundError\u001b[0m                       Traceback (most recent call last)",
      "Cell \u001b[0;32mIn[43], line 1\u001b[0m\n\u001b[0;32m----> 1\u001b[0m \u001b[38;5;28;01mimport\u001b[39;00m \u001b[38;5;21;01mmatplotlib\u001b[39;00m\u001b[38;5;21;01m.\u001b[39;00m\u001b[38;5;21;01mpyplot\u001b[39;00m \u001b[38;5;28;01mas\u001b[39;00m \u001b[38;5;21;01mplt\u001b[39;00m\n",
      "\u001b[0;31mModuleNotFoundError\u001b[0m: No module named 'matplotlib'"
     ]
    }
   ],
   "source": [
    "import matplotlib.pyplot as plt"
   ]
  },
  {
   "cell_type": "code",
   "execution_count": 42,
   "metadata": {},
   "outputs": [
    {
     "name": "stdout",
     "output_type": "stream",
     "text": [
      "{0: [4.87, 10.14, 12.45, 37.07, 49.72, 55.36, 69.01, 74.01, 75.78, 76.48, 76.56, 78.24, 84.11, 115.38, 128.32, 132.68, 139.02, 167.23, 168.76, 187.26, 206.29, 209.39, 213.48, 224.7, 236.18, 243.63, 264.46, 266.32, 286.42, 302.16, 306.68, 312.96, 326.83, 333.62, 337.33, 361.54, 373.15, 380.37, 381.54, 383.84, 403.31, 411.55, 422.17, 426.84, 426.92, 444.03, 459.07, 471.18, 490.74, 505.56, 530.47, 532.64, 537.82, 544.63, 551.46, 565.05, 581.81, 585.08, 596.03, 602.02, 608.35, 613.04, 619.3, 620.39, 650.07, 670.9, 698.33, 708.8, 743.87, 746.0, 757.29, 765.0, 775.07, 779.45, 793.55, 795.09, 795.7, 796.92, 818.57, 823.1, 842.55, 851.29, 852.57, 865.01, 892.13, 897.04, 899.81, 903.67, 908.65, 910.13, 920.36, 927.98, 933.02, 943.8, 951.13, 984.39, 1004.88], 1: [2.65, 47.33, 49.07, 49.18, 50.25, 53.55, 63.37, 72.97, 103.99, 165.28, 166.72, 169.83, 170.92, 182.85, 228.89, 235.99, 260.32, 274.15, 284.58, 299.68, 300.23, 311.36, 319.52, 321.54, 323.44, 327.07, 344.71, 368.98, 385.76, 387.48, 403.48, 429.65, 436.63, 453.29, 468.44, 517.15, 518.23, 523.83, 529.96, 535.15, 562.17, 571.83, 613.16, 631.46, 631.82, 634.3, 659.82, 663.49, 664.45, 669.99, 677.0, 686.63, 690.26, 702.87, 719.9, 722.07, 724.11, 739.93, 740.06, 758.54, 760.77, 775.97, 777.08, 802.95, 811.69, 824.83, 827.94, 833.8, 846.77, 858.4, 890.26, 891.6, 906.52, 910.05, 915.33, 926.28, 932.68, 946.03, 953.01, 962.62, 962.89, 974.86, 976.85, 981.28]}\n"
     ]
    }
   ],
   "source": [
    "t = 0\n",
    "fails = {0: [],1: []}\n",
    "while t < 1e3:\n",
    "    in_oper = 2\n",
    "    next_fails = expon.rvs(scale=1/10e-2, size=in_oper)\n",
    "    c = next_fails.argmin()\n",
    "    fails[c].append(round(t+next_fails[c], 2))\n",
    "    t += next_fails[c]\n",
    "print(fails)"
   ]
  },
  {
   "cell_type": "code",
   "execution_count": null,
   "metadata": {},
   "outputs": [],
   "source": [
    "@bp.thread\n",
    "def main():\n",
    "    comps = {'a': ON, 'b':ON}\n",
    "    t = 0\n",
    "    while t < 1e6:\n",
    "        in_oper = sum(comps.values())\n",
    "        next_fails = expon.rvs(scale=1/10, size=in_oper)\n",
    "        c = next_fails.argmin()\n",
    "        \n",
    "@bp.thread\n",
    "def a():\n",
    "    sync(waitFor=bp.BEvent('fail_a'))\n",
    "\n",
    "@bp.thread\n",
    "def b():\n",
    "    sync(waitFor=bp.BEvent('fail_b'))"
   ]
  },
  {
   "cell_type": "code",
   "execution_count": 17,
   "metadata": {
    "id": "XLTPuYxLq07c"
   },
   "outputs": [],
   "source": [
    "@bp.thread\n",
    "def cycle_counter(max_t = 20):\n",
    "    fails = []\n",
    "    for i in range(max_t):\n",
    "        sync(request=bp.BEvent('tick'))\n",
    "\n",
    "@bp.thread\n",
    "def main_grid():\n",
    "    grid = ON\n",
    "    while True:\n",
    "        e = sync(waitFor=[bp.BEvent(i) for i in ['tick']])\n",
    "        if e.name == 'tick':\n",
    "            P_failiure_in_1 = in_oper_f_r*math.e**(-in_oper_f_r) # P[Failiure <= 1]\n",
    "            status = choice({OFF: P_failiure_in_1, ON: 1-P_failiure_in_1})\n",
    "            if status != grid:\n",
    "                sync(bp.BEvent(f'GRID_{status}'))\n",
    "                grid = status\n",
    "\n",
    "@bp.thread\n",
    "def line1():\n",
    "    cs = {comps[i]: ON for i in [2, 4, 6]} #UP, DW, transfo\n",
    "\n",
    "\n",
    "@bp.thread\n",
    "def line2():\n",
    "    cs = {comps[i]: ON if i != 7 else OFF for i in [3, 5, 7]}\n",
    "\n",
    "@bp.thread\n",
    "def backup():\n",
    "    cs = {comps[i]: OFF for i in [-1, -2]}\n",
    "\n",
    "@bp.thread\n",
    "def busbar():\n",
    "    sources = {'LINE1': ON, 'LINE2': OFF, 'DIESEL': OFF}\n",
    "    is_working = lambda: any(sources.values())\n",
    "    bb = is_working()\n"
   ]
  },
  {
   "cell_type": "code",
   "execution_count": 7,
   "metadata": {
    "colab": {
     "base_uri": "https://localhost:8080/"
    },
    "id": "jNmUsCbksuY5",
    "outputId": "f186cf3e-fede-49f5-fde0-02e07e73575e"
   },
   "outputs": [
    {
     "data": {
      "text/plain": [
       "False"
      ]
     },
     "execution_count": 7,
     "metadata": {},
     "output_type": "execute_result"
    }
   ],
   "source": [
    "any({'a':0}.values())"
   ]
  },
  {
   "cell_type": "code",
   "execution_count": null,
   "metadata": {
    "id": "5aaiscllqrVk"
   },
   "outputs": [],
   "source": []
  }
 ],
 "metadata": {
  "colab": {
   "provenance": []
  },
  "kernelspec": {
   "display_name": "Python 3 (ipykernel)",
   "language": "python",
   "name": "python3"
  },
  "language_info": {
   "codemirror_mode": {
    "name": "ipython",
    "version": 3
   },
   "file_extension": ".py",
   "mimetype": "text/x-python",
   "name": "python",
   "nbconvert_exporter": "python",
   "pygments_lexer": "ipython3",
   "version": "3.12.3"
  }
 },
 "nbformat": 4,
 "nbformat_minor": 4
}
